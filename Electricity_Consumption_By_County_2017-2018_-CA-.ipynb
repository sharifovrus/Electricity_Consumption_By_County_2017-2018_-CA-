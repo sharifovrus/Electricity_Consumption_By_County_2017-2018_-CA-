{
 "cells": [
  {
   "cell_type": "markdown",
   "metadata": {},
   "source": [
    "# Project: Prediction of the Electricity Consumption by County in California"
   ]
  },
  {
   "cell_type": "code",
   "execution_count": 1,
   "metadata": {
    "collapsed": true
   },
   "outputs": [],
   "source": [
    "# Import the libraries\n",
    "import pandas as pd  \n",
    "import numpy as np  \n",
    "import matplotlib.pyplot as plt  \n",
    "import seaborn as seabornInstance \n",
    "%matplotlib inline"
   ]
  },
  {
   "cell_type": "code",
   "execution_count": 2,
   "metadata": {},
   "outputs": [
    {
     "data": {
      "text/html": [
       "<div>\n",
       "<style>\n",
       "    .dataframe thead tr:only-child th {\n",
       "        text-align: right;\n",
       "    }\n",
       "\n",
       "    .dataframe thead th {\n",
       "        text-align: left;\n",
       "    }\n",
       "\n",
       "    .dataframe tbody tr th {\n",
       "        vertical-align: top;\n",
       "    }\n",
       "</style>\n",
       "<table border=\"1\" class=\"dataframe\">\n",
       "  <thead>\n",
       "    <tr style=\"text-align: right;\">\n",
       "      <th></th>\n",
       "      <th>County</th>\n",
       "      <th>Sector</th>\n",
       "      <th>2018</th>\n",
       "      <th>2017</th>\n",
       "      <th>Total Usage</th>\n",
       "    </tr>\n",
       "  </thead>\n",
       "  <tbody>\n",
       "    <tr>\n",
       "      <th>0</th>\n",
       "      <td>ALAMEDA</td>\n",
       "      <td>Non-Residential</td>\n",
       "      <td>7367.119929</td>\n",
       "      <td>8108.827570</td>\n",
       "      <td>15475.947499</td>\n",
       "    </tr>\n",
       "    <tr>\n",
       "      <th>1</th>\n",
       "      <td>CONTRA COSTA</td>\n",
       "      <td>Non-Residential</td>\n",
       "      <td>6470.015417</td>\n",
       "      <td>6842.799382</td>\n",
       "      <td>13312.814799</td>\n",
       "    </tr>\n",
       "    <tr>\n",
       "      <th>2</th>\n",
       "      <td>FRESNO</td>\n",
       "      <td>Non-Residential</td>\n",
       "      <td>4838.604040</td>\n",
       "      <td>4641.642674</td>\n",
       "      <td>9480.246714</td>\n",
       "    </tr>\n",
       "    <tr>\n",
       "      <th>3</th>\n",
       "      <td>LOS ANGELES</td>\n",
       "      <td>Non-Residential</td>\n",
       "      <td>47267.108138</td>\n",
       "      <td>48089.687858</td>\n",
       "      <td>95356.795996</td>\n",
       "    </tr>\n",
       "    <tr>\n",
       "      <th>4</th>\n",
       "      <td>ORANGE</td>\n",
       "      <td>Non-Residential</td>\n",
       "      <td>13044.070989</td>\n",
       "      <td>13303.152020</td>\n",
       "      <td>26347.223009</td>\n",
       "    </tr>\n",
       "    <tr>\n",
       "      <th>5</th>\n",
       "      <td>RIVERSIDE</td>\n",
       "      <td>Non-Residential</td>\n",
       "      <td>8275.205307</td>\n",
       "      <td>8309.270050</td>\n",
       "      <td>16584.475357</td>\n",
       "    </tr>\n",
       "    <tr>\n",
       "      <th>6</th>\n",
       "      <td>SACRAMENTO</td>\n",
       "      <td>Non-Residential</td>\n",
       "      <td>6170.980299</td>\n",
       "      <td>6278.966669</td>\n",
       "      <td>12449.946968</td>\n",
       "    </tr>\n",
       "    <tr>\n",
       "      <th>7</th>\n",
       "      <td>SAN BERNARDINO</td>\n",
       "      <td>Non-Residential</td>\n",
       "      <td>10078.138838</td>\n",
       "      <td>10063.191150</td>\n",
       "      <td>20141.329988</td>\n",
       "    </tr>\n",
       "    <tr>\n",
       "      <th>8</th>\n",
       "      <td>SAN DIEGO</td>\n",
       "      <td>Non-Residential</td>\n",
       "      <td>12807.004508</td>\n",
       "      <td>12733.398624</td>\n",
       "      <td>25540.403132</td>\n",
       "    </tr>\n",
       "    <tr>\n",
       "      <th>9</th>\n",
       "      <td>SANTA CLARA</td>\n",
       "      <td>Non-Residential</td>\n",
       "      <td>12778.359518</td>\n",
       "      <td>13232.183222</td>\n",
       "      <td>26010.542740</td>\n",
       "    </tr>\n",
       "  </tbody>\n",
       "</table>\n",
       "</div>"
      ],
      "text/plain": [
       "           County           Sector          2018          2017   Total Usage\n",
       "0         ALAMEDA  Non-Residential   7367.119929   8108.827570  15475.947499\n",
       "1    CONTRA COSTA  Non-Residential   6470.015417   6842.799382  13312.814799\n",
       "2          FRESNO  Non-Residential   4838.604040   4641.642674   9480.246714\n",
       "3     LOS ANGELES  Non-Residential  47267.108138  48089.687858  95356.795996\n",
       "4          ORANGE  Non-Residential  13044.070989  13303.152020  26347.223009\n",
       "5       RIVERSIDE  Non-Residential   8275.205307   8309.270050  16584.475357\n",
       "6      SACRAMENTO  Non-Residential   6170.980299   6278.966669  12449.946968\n",
       "7  SAN BERNARDINO  Non-Residential  10078.138838  10063.191150  20141.329988\n",
       "8       SAN DIEGO  Non-Residential  12807.004508  12733.398624  25540.403132\n",
       "9     SANTA CLARA  Non-Residential  12778.359518  13232.183222  26010.542740"
      ]
     },
     "execution_count": 2,
     "metadata": {},
     "output_type": "execute_result"
    }
   ],
   "source": [
    "# Import the dataset\n",
    "data = pd.read_csv('ElectricityByTop10CountyCA(nonresidential).csv')\n",
    "data"
   ]
  },
  {
   "cell_type": "code",
   "execution_count": 3,
   "metadata": {},
   "outputs": [
    {
     "data": {
      "text/plain": [
       "(10, 5)"
      ]
     },
     "execution_count": 3,
     "metadata": {},
     "output_type": "execute_result"
    }
   ],
   "source": [
    "# Dataset info\n",
    "data.shape"
   ]
  },
  {
   "cell_type": "code",
   "execution_count": 4,
   "metadata": {},
   "outputs": [
    {
     "data": {
      "text/plain": [
       "County         0\n",
       "Sector         0\n",
       "2018           0\n",
       "2017           0\n",
       "Total Usage    0\n",
       "dtype: int64"
      ]
     },
     "execution_count": 4,
     "metadata": {},
     "output_type": "execute_result"
    }
   ],
   "source": [
    "# Check whether there are any missing values\n",
    "data.isnull().sum()"
   ]
  },
  {
   "cell_type": "code",
   "execution_count": 5,
   "metadata": {},
   "outputs": [
    {
     "data": {
      "text/html": [
       "<div>\n",
       "<style>\n",
       "    .dataframe thead tr:only-child th {\n",
       "        text-align: right;\n",
       "    }\n",
       "\n",
       "    .dataframe thead th {\n",
       "        text-align: left;\n",
       "    }\n",
       "\n",
       "    .dataframe tbody tr th {\n",
       "        vertical-align: top;\n",
       "    }\n",
       "</style>\n",
       "<table border=\"1\" class=\"dataframe\">\n",
       "  <thead>\n",
       "    <tr style=\"text-align: right;\">\n",
       "      <th></th>\n",
       "      <th>2018</th>\n",
       "      <th>2017</th>\n",
       "      <th>Total Usage</th>\n",
       "    </tr>\n",
       "  </thead>\n",
       "  <tbody>\n",
       "    <tr>\n",
       "      <th>count</th>\n",
       "      <td>10.000000</td>\n",
       "      <td>10.000000</td>\n",
       "      <td>10.000000</td>\n",
       "    </tr>\n",
       "    <tr>\n",
       "      <th>mean</th>\n",
       "      <td>12909.660698</td>\n",
       "      <td>13160.311922</td>\n",
       "      <td>26069.972620</td>\n",
       "    </tr>\n",
       "    <tr>\n",
       "      <th>std</th>\n",
       "      <td>12439.704759</td>\n",
       "      <td>12643.588575</td>\n",
       "      <td>25081.756866</td>\n",
       "    </tr>\n",
       "    <tr>\n",
       "      <th>min</th>\n",
       "      <td>4838.604040</td>\n",
       "      <td>4641.642674</td>\n",
       "      <td>9480.246714</td>\n",
       "    </tr>\n",
       "    <tr>\n",
       "      <th>25%</th>\n",
       "      <td>6694.291545</td>\n",
       "      <td>7159.306429</td>\n",
       "      <td>13853.597974</td>\n",
       "    </tr>\n",
       "    <tr>\n",
       "      <th>50%</th>\n",
       "      <td>9176.672072</td>\n",
       "      <td>9186.230600</td>\n",
       "      <td>18362.902673</td>\n",
       "    </tr>\n",
       "    <tr>\n",
       "      <th>75%</th>\n",
       "      <td>12799.843261</td>\n",
       "      <td>13107.487073</td>\n",
       "      <td>25893.007838</td>\n",
       "    </tr>\n",
       "    <tr>\n",
       "      <th>max</th>\n",
       "      <td>47267.108138</td>\n",
       "      <td>48089.687858</td>\n",
       "      <td>95356.795996</td>\n",
       "    </tr>\n",
       "  </tbody>\n",
       "</table>\n",
       "</div>"
      ],
      "text/plain": [
       "               2018          2017   Total Usage\n",
       "count     10.000000     10.000000     10.000000\n",
       "mean   12909.660698  13160.311922  26069.972620\n",
       "std    12439.704759  12643.588575  25081.756866\n",
       "min     4838.604040   4641.642674   9480.246714\n",
       "25%     6694.291545   7159.306429  13853.597974\n",
       "50%     9176.672072   9186.230600  18362.902673\n",
       "75%    12799.843261  13107.487073  25893.007838\n",
       "max    47267.108138  48089.687858  95356.795996"
      ]
     },
     "execution_count": 5,
     "metadata": {},
     "output_type": "execute_result"
    }
   ],
   "source": [
    "data.describe()"
   ]
  },
  {
   "cell_type": "code",
   "execution_count": 6,
   "metadata": {},
   "outputs": [
    {
     "data": {
      "text/plain": [
       "12909.660698299998"
      ]
     },
     "execution_count": 6,
     "metadata": {},
     "output_type": "execute_result"
    }
   ],
   "source": [
    "from statistics import mean \n",
    "data['2018'].mean()"
   ]
  },
  {
   "cell_type": "code",
   "execution_count": 7,
   "metadata": {},
   "outputs": [
    {
     "data": {
      "image/png": "[encoded data removed]",
      "text/plain": [
       "<matplotlib.figure.Figure at 0x18730269a58>"
      ]
     },
     "metadata": {},
     "output_type": "display_data"
    }
   ],
   "source": [
    "x = data.loc[:, ['2018']]\n",
    "data['new'] = x\n",
    "data['colors'] = ['green' for x in data['new']]\n",
    "data.sort_values('new', inplace=True)\n",
    "\n",
    "\n",
    "plt.figure(figsize=(12,8), dpi= 80)\n",
    "plt.hlines(y=data.index, xmin=0, xmax=data.new, color=data.colors, alpha=0.4, linewidth=5)\n",
    "\n",
    "plt.gca().set(ylabel='$County$', xlabel='$2018$')\n",
    "plt.yticks(data.index, data.County, fontsize=12)\n",
    "plt.title('Electricity consumption by County for 2018', fontdict={'size':20})\n",
    "plt.grid(linestyle='--', alpha=0.5)\n",
    "plt.show()"
   ]
  },
  {
   "cell_type": "code",
   "execution_count": 8,
   "metadata": {
    "scrolled": true
   },
   "outputs": [
    {
     "data": {
      "image/png": "[encoded data removed]",
      "text/plain": [
       "<matplotlib.figure.Figure at 0x1873055b668>"
      ]
     },
     "metadata": {},
     "output_type": "display_data"
    }
   ],
   "source": [
    "# Draw plot\n",
    "plt.figure(figsize=(15,10), dpi= 80)\n",
    "\n",
    "barWidth = 0.25\n",
    " \n",
    "bars1 = data['2017']\n",
    "bars2 = data['2018']\n",
    "\n",
    "\n",
    "r1 = np.arange(len(bars1))\n",
    "r2 = [x + barWidth for x in r1]\n",
    "\n",
    "\n",
    "plt.bar(r1, bars1, color='orange', width=barWidth, edgecolor='white', label='2017')\n",
    "plt.bar(r2, bars2, color='blue', width=barWidth, edgecolor='white', label='2018')\n",
    "\n",
    "\n",
    "plt.xlabel('County', fontweight='bold')\n",
    "plt.xticks([r + barWidth for r in range(len(bars1))], data.County)\n",
    "plt.ylabel('Millions of kWh (GWh)', fontweight='bold')\n",
    "\n",
    "plt.legend()\n",
    "plt.show()"
   ]
  },
  {
   "cell_type": "code",
   "execution_count": 9,
   "metadata": {
    "collapsed": true
   },
   "outputs": [],
   "source": [
    "#Test Train Split Data\n",
    "from sklearn.model_selection import train_test_split \n",
    "X = data['2017'].values.reshape(-1,1)\n",
    "y = data['2018'].values.reshape(-1,1)\n",
    "X_train, X_test, y_train, y_test = train_test_split(X, y, test_size=0.2, random_state=0)"
   ]
  },
  {
   "cell_type": "code",
   "execution_count": 10,
   "metadata": {},
   "outputs": [
    {
     "data": {
      "text/plain": [
       "LinearRegression(copy_X=True, fit_intercept=True, n_jobs=1, normalize=False)"
      ]
     },
     "execution_count": 10,
     "metadata": {},
     "output_type": "execute_result"
    }
   ],
   "source": [
    "#Implement a Linear Regression\n",
    "from sklearn.linear_model import LinearRegression\n",
    "model = LinearRegression()  \n",
    "model.fit(X_train, y_train)"
   ]
  },
  {
   "cell_type": "code",
   "execution_count": 11,
   "metadata": {},
   "outputs": [
    {
     "data": {
      "text/html": [
       "<div>\n",
       "<style>\n",
       "    .dataframe thead tr:only-child th {\n",
       "        text-align: right;\n",
       "    }\n",
       "\n",
       "    .dataframe thead th {\n",
       "        text-align: left;\n",
       "    }\n",
       "\n",
       "    .dataframe tbody tr th {\n",
       "        vertical-align: top;\n",
       "    }\n",
       "</style>\n",
       "<table border=\"1\" class=\"dataframe\">\n",
       "  <thead>\n",
       "    <tr style=\"text-align: right;\">\n",
       "      <th></th>\n",
       "      <th>Factual</th>\n",
       "      <th>Prediction</th>\n",
       "    </tr>\n",
       "  </thead>\n",
       "  <tbody>\n",
       "    <tr>\n",
       "      <th>0</th>\n",
       "      <td>6470.015417</td>\n",
       "      <td>6732.646956</td>\n",
       "    </tr>\n",
       "    <tr>\n",
       "      <th>1</th>\n",
       "      <td>13044.070989</td>\n",
       "      <td>13079.838705</td>\n",
       "    </tr>\n",
       "  </tbody>\n",
       "</table>\n",
       "</div>"
      ],
      "text/plain": [
       "        Factual    Prediction\n",
       "0   6470.015417   6732.646956\n",
       "1  13044.070989  13079.838705"
      ]
     },
     "execution_count": 11,
     "metadata": {},
     "output_type": "execute_result"
    }
   ],
   "source": [
    "y_pred = model.predict(X_test)\n",
    "prediction = pd.DataFrame({'Factual': y_test.flatten(), 'Prediction': y_pred.flatten()})\n",
    "prediction"
   ]
  },
  {
   "cell_type": "code",
   "execution_count": 12,
   "metadata": {},
   "outputs": [
    {
     "data": {
      "image/png": "[encoded data removed]",
      "text/plain": [
       "<matplotlib.figure.Figure at 0x18730a2f9e8>"
      ]
     },
     "metadata": {},
     "output_type": "display_data"
    }
   ],
   "source": [
    "model = data\n",
    "model.plot(kind='bar',figsize=(12,8))\n",
    "plt.grid(which='major', linestyle='-', linewidth='0.5', color='green')\n",
    "plt.grid(which='minor', linestyle=':', linewidth='0.5', color='black')\n",
    "plt.show()"
   ]
  },
  {
   "cell_type": "code",
   "execution_count": 13,
   "metadata": {
    "scrolled": true
   },
   "outputs": [
    {
     "name": "stderr",
     "output_type": "stream",
     "text": [
      "C:\\Users\\Ruslan\\Anaconda3 5.0.1\\lib\\site-packages\\sklearn\\utils\\validation.py:578: DataConversionWarning: A column-vector y was passed when a 1d array was expected. Please change the shape of y to (n_samples, ), for example using ravel().\n",
      "  y = column_or_1d(y, warn=True)\n"
     ]
    },
    {
     "data": {
      "text/plain": [
       "SGDClassifier(alpha=0.0001, average=False, class_weight=None, epsilon=0.1,\n",
       "       eta0=0.0, fit_intercept=True, l1_ratio=0.15,\n",
       "       learning_rate='optimal', loss='hinge', max_iter=1000, n_iter=None,\n",
       "       n_jobs=1, penalty='l2', power_t=0.5, random_state=None,\n",
       "       shuffle=True, tol=0.001, verbose=0, warm_start=False)"
      ]
     },
     "execution_count": 13,
     "metadata": {},
     "output_type": "execute_result"
    }
   ],
   "source": [
    "from sklearn import linear_model\n",
    "X = data['2017'].values.reshape(-1,1)\n",
    "y = data['2018'].values.reshape(-1,1)\n",
    "y = y.astype('int') \n",
    "clf = linear_model.SGDClassifier(max_iter=1000, tol=1e-3)\n",
    "clf.fit(X, y)"
   ]
  },
  {
   "cell_type": "code",
   "execution_count": 14,
   "metadata": {},
   "outputs": [
    {
     "name": "stdout",
     "output_type": "stream",
     "text": [
      "[12807 12807]\n"
     ]
    }
   ],
   "source": [
    "print(clf.predict(y_pred))"
   ]
  }
 ],
 "metadata": {
  "kernelspec": {
   "display_name": "Python [conda env:Anaconda3 5.0.1]",
   "language": "python",
   "name": "conda-env-Anaconda3 5.0.1-py"
  },
  "language_info": {
   "codemirror_mode": {
    "name": "ipython",
    "version": 3
   },
   "file_extension": ".py",
   "mimetype": "text/x-python",
   "name": "python",
   "nbconvert_exporter": "python",
   "pygments_lexer": "ipython3",
   "version": "3.6.3"
  }
 },
 "nbformat": 4,
 "nbformat_minor": 2
}
